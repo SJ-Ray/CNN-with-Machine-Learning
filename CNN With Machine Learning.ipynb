{
 "cells": [
  {
   "cell_type": "code",
   "execution_count": 1,
   "metadata": {},
   "outputs": [
    {
     "name": "stderr",
     "output_type": "stream",
     "text": [
      "Using TensorFlow backend.\n"
     ]
    }
   ],
   "source": [
    "#loading base packages\n",
    "import pandas as pd\n",
    "import numpy as np\n",
    "import pickle\n",
    "from matplotlib import pyplot as plt\n",
    "\n",
    "#loading keras packages\n",
    "from keras.applications.vgg16 import VGG16\n",
    "from keras.applications.vgg16 import preprocess_input\n",
    "from keras.models import Sequential\n",
    "from keras.layers import Flatten\n",
    "\n",
    "#loading sklearn packages\n",
    "from sklearn.linear_model import LogisticRegression\n",
    "from sklearn.metrics import accuracy_score,classification_report"
   ]
  },
  {
   "cell_type": "code",
   "execution_count": 2,
   "metadata": {},
   "outputs": [],
   "source": [
    "#code to unpickle cifar 100 dataset and return dataframe\n",
    "def unpickle_load_df(file):\n",
    "    with open(file, 'rb') as fo:\n",
    "        dict_ = pickle.load(fo, encoding='bytes')\n",
    "        \n",
    "    df=pd.DataFrame(dict_[ b'data'])\n",
    "    columns=list(dict_.keys())\n",
    "    columns.remove(b'data')\n",
    "    for col in columns:\n",
    "        df[col]=dict_[col]\n",
    "        \n",
    "    return df"
   ]
  },
  {
   "cell_type": "code",
   "execution_count": 3,
   "metadata": {},
   "outputs": [],
   "source": [
    "#code to get index to label mapping\n",
    "def get_index_to_label_mapping(type_):\n",
    "    \n",
    "    with open(\"cifar-100-python/meta\", 'rb') as fo:\n",
    "        dict_ = pickle.load(fo, encoding='bytes')\n",
    "    \n",
    "    idx2lbl=dict(enumerate(dict_[type_]))\n",
    "    \n",
    "    return idx2lbl"
   ]
  },
  {
   "cell_type": "code",
   "execution_count": 4,
   "metadata": {},
   "outputs": [
    {
     "name": "stdout",
     "output_type": "stream",
     "text": [
      "Train shape:(50000, 3076)\n",
      "Test shape:(10000, 3076)\n"
     ]
    }
   ],
   "source": [
    "#loading train and test dataset\n",
    "train=unpickle_load_df('cifar-100-python/train')\n",
    "test=unpickle_load_df('cifar-100-python/test')\n",
    "print(f\"Train shape:{train.shape}\")\n",
    "print(f\"Test shape:{test.shape}\")"
   ]
  },
  {
   "cell_type": "code",
   "execution_count": 5,
   "metadata": {},
   "outputs": [
    {
     "data": {
      "text/plain": [
       "{0: b'aquatic_mammals',\n",
       " 1: b'fish',\n",
       " 2: b'flowers',\n",
       " 3: b'food_containers',\n",
       " 4: b'fruit_and_vegetables',\n",
       " 5: b'household_electrical_devices',\n",
       " 6: b'household_furniture',\n",
       " 7: b'insects',\n",
       " 8: b'large_carnivores',\n",
       " 9: b'large_man-made_outdoor_things',\n",
       " 10: b'large_natural_outdoor_scenes',\n",
       " 11: b'large_omnivores_and_herbivores',\n",
       " 12: b'medium_mammals',\n",
       " 13: b'non-insect_invertebrates',\n",
       " 14: b'people',\n",
       " 15: b'reptiles',\n",
       " 16: b'small_mammals',\n",
       " 17: b'trees',\n",
       " 18: b'vehicles_1',\n",
       " 19: b'vehicles_2'}"
      ]
     },
     "execution_count": 5,
     "metadata": {},
     "output_type": "execute_result"
    }
   ],
   "source": [
    "#in this tutorial we are going to use coarse labels \n",
    "idx2lbl=get_index_to_label_mapping(b'coarse_label_names') #b'fine_label_names' or b'coarse_label_names'\n",
    "idx2lbl"
   ]
  },
  {
   "cell_type": "code",
   "execution_count": 6,
   "metadata": {},
   "outputs": [
    {
     "name": "stdout",
     "output_type": "stream",
     "text": [
      "Train shape:(5000, 3076)\n",
      "Test shape:(1000, 3076)\n"
     ]
    }
   ],
   "source": [
    "# For this tutorial we are going to classify between fish and people\n",
    "# selecting only fish and people records from dataframe\n",
    "# 1 : Fish, 14 : People\n",
    "train=train[train[b'coarse_labels'].isin([1,14])]\n",
    "test=test[test[b'coarse_labels'].isin([1,14])]\n",
    "print(f\"Train shape:{train.shape}\")\n",
    "print(f\"Test shape:{test.shape}\")"
   ]
  },
  {
   "cell_type": "code",
   "execution_count": 7,
   "metadata": {},
   "outputs": [
    {
     "name": "stdout",
     "output_type": "stream",
     "text": [
      "Fish Label :0\n",
      "People Label:1\n"
     ]
    }
   ],
   "source": [
    "#replacing labels 1,14 to 0,1\n",
    "train[b'coarse_labels'].replace({1:0,14:1},inplace=True)\n",
    "test[b'coarse_labels'].replace({1:0,14:1},inplace=True)\n",
    "print(f\"Fish Label :{0}\")\n",
    "print(f\"People Label:{1}\")"
   ]
  },
  {
   "cell_type": "code",
   "execution_count": 8,
   "metadata": {},
   "outputs": [
    {
     "name": "stdout",
     "output_type": "stream",
     "text": [
      "Train\n",
      "1    2500\n",
      "0    2500\n",
      "Name: b'coarse_labels', dtype: int64\n",
      "\n",
      "Test\n",
      "1    500\n",
      "0    500\n",
      "Name: b'coarse_labels', dtype: int64\n"
     ]
    }
   ],
   "source": [
    "#class distribution\n",
    "print(\"Train\")\n",
    "print(train[b'coarse_labels'].value_counts())\n",
    "\n",
    "print(\"\\nTest\")\n",
    "print(test[b'coarse_labels'].value_counts())"
   ]
  },
  {
   "cell_type": "code",
   "execution_count": 9,
   "metadata": {},
   "outputs": [],
   "source": [
    "X_train,y_train=train.iloc[:,:-4],train.iloc[:,-1]\n",
    "X_test,y_test=test.iloc[:,:-4],test.iloc[:,-1]"
   ]
  },
  {
   "cell_type": "code",
   "execution_count": 10,
   "metadata": {},
   "outputs": [
    {
     "name": "stdout",
     "output_type": "stream",
     "text": [
      "(5000, 32, 32, 3)\n",
      "(1000, 32, 32, 3)\n"
     ]
    }
   ],
   "source": [
    "#reshaping images\n",
    "X_train=X_train.values.reshape(-1,3,32,32).transpose(0,2,3,1)\n",
    "X_test=X_test.values.reshape(-1,3,32,32).transpose(0,2,3,1)\n",
    "print(X_train.shape)\n",
    "print(X_test.shape)"
   ]
  },
  {
   "cell_type": "code",
   "execution_count": 11,
   "metadata": {},
   "outputs": [
    {
     "data": {
      "image/png": "[encoded data removed]",
      "text/plain": [
       "<Figure size 1800x288 with 10 Axes>"
      ]
     },
     "metadata": {},
     "output_type": "display_data"
    }
   ],
   "source": [
    "#randomly displaying images\n",
    "fig=plt.figure(figsize=(25,4))\n",
    "for i in range(1,11):\n",
    "    ax=fig.add_subplot(2,5,i,xticks=[],yticks=[])\n",
    "    index=np.random.randint(0,X_train.shape[0])\n",
    "    ax.imshow(X_train[index],cmap='gray')\n",
    "    ax.set_title(\"People\" if y_train.iloc[index] else \"Fish\")"
   ]
  },
  {
   "cell_type": "code",
   "execution_count": 12,
   "metadata": {},
   "outputs": [],
   "source": [
    "#preprocessing images\n",
    "def prepocess_images(X):\n",
    "    image_list=[]\n",
    "    \n",
    "    for x in X:\n",
    "        image_list.append(preprocess_input(x))\n",
    "        \n",
    "    return np.array(image_list)\n",
    "\n",
    "X_train=prepocess_images(X_train)\n",
    "X_test=prepocess_images(X_test)"
   ]
  },
  {
   "cell_type": "code",
   "execution_count": 13,
   "metadata": {},
   "outputs": [],
   "source": [
    "#loading VGG16 with imagenet weigths\n",
    "image_size=32\n",
    "num_class=2\n",
    "model=VGG16(weights='imagenet',include_top=False,input_shape=(image_size,image_size,3))"
   ]
  },
  {
   "cell_type": "code",
   "execution_count": 14,
   "metadata": {},
   "outputs": [
    {
     "name": "stdout",
     "output_type": "stream",
     "text": [
      "Model: \"vgg16\"\n",
      "_________________________________________________________________\n",
      "Layer (type)                 Output Shape              Param #   \n",
      "=================================================================\n",
      "input_1 (InputLayer)         (None, 32, 32, 3)         0         \n",
      "_________________________________________________________________\n",
      "block1_conv1 (Conv2D)        (None, 32, 32, 64)        1792      \n",
      "_________________________________________________________________\n",
      "block1_conv2 (Conv2D)        (None, 32, 32, 64)        36928     \n",
      "_________________________________________________________________\n",
      "block1_pool (MaxPooling2D)   (None, 16, 16, 64)        0         \n",
      "_________________________________________________________________\n",
      "block2_conv1 (Conv2D)        (None, 16, 16, 128)       73856     \n",
      "_________________________________________________________________\n",
      "block2_conv2 (Conv2D)        (None, 16, 16, 128)       147584    \n",
      "_________________________________________________________________\n",
      "block2_pool (MaxPooling2D)   (None, 8, 8, 128)         0         \n",
      "_________________________________________________________________\n",
      "block3_conv1 (Conv2D)        (None, 8, 8, 256)         295168    \n",
      "_________________________________________________________________\n",
      "block3_conv2 (Conv2D)        (None, 8, 8, 256)         590080    \n",
      "_________________________________________________________________\n",
      "block3_conv3 (Conv2D)        (None, 8, 8, 256)         590080    \n",
      "_________________________________________________________________\n",
      "block3_pool (MaxPooling2D)   (None, 4, 4, 256)         0         \n",
      "_________________________________________________________________\n",
      "block4_conv1 (Conv2D)        (None, 4, 4, 512)         1180160   \n",
      "_________________________________________________________________\n",
      "block4_conv2 (Conv2D)        (None, 4, 4, 512)         2359808   \n",
      "_________________________________________________________________\n",
      "block4_conv3 (Conv2D)        (None, 4, 4, 512)         2359808   \n",
      "_________________________________________________________________\n",
      "block4_pool (MaxPooling2D)   (None, 2, 2, 512)         0         \n",
      "_________________________________________________________________\n",
      "block5_conv1 (Conv2D)        (None, 2, 2, 512)         2359808   \n",
      "_________________________________________________________________\n",
      "block5_conv2 (Conv2D)        (None, 2, 2, 512)         2359808   \n",
      "_________________________________________________________________\n",
      "block5_conv3 (Conv2D)        (None, 2, 2, 512)         2359808   \n",
      "_________________________________________________________________\n",
      "block5_pool (MaxPooling2D)   (None, 1, 1, 512)         0         \n",
      "=================================================================\n",
      "Total params: 14,714,688\n",
      "Trainable params: 14,714,688\n",
      "Non-trainable params: 0\n",
      "_________________________________________________________________\n"
     ]
    }
   ],
   "source": [
    "model.summary()"
   ]
  },
  {
   "cell_type": "code",
   "execution_count": 15,
   "metadata": {},
   "outputs": [],
   "source": [
    "#get Feautre vectors from complete VGG16 network\n",
    "X_train_features=model.predict(X_train).reshape(-1,512)\n",
    "X_test_features=model.predict(X_test).reshape(-1,512)"
   ]
  },
  {
   "cell_type": "code",
   "execution_count": 16,
   "metadata": {},
   "outputs": [],
   "source": [
    "#generate classification report\n",
    "def generate_classification_report(predictions,y_test):\n",
    "    report=pd.DataFrame.from_dict(classification_report(predictions,y_test,output_dict=True)).T\n",
    "    report['Label']=[(\"People\" if int(x) else \"Fish\") if x.isdigit() else \" \" for x in report.index]\n",
    "    report=report[['Label','f1-score','precision','recall','support']]\n",
    "    return report"
   ]
  },
  {
   "cell_type": "code",
   "execution_count": 17,
   "metadata": {},
   "outputs": [
    {
     "name": "stderr",
     "output_type": "stream",
     "text": [
      "C:\\Users\\MSI\\Anaconda3\\lib\\site-packages\\sklearn\\linear_model\\logistic.py:432: FutureWarning: Default solver will be changed to 'lbfgs' in 0.22. Specify a solver to silence this warning.\n",
      "  FutureWarning)\n"
     ]
    },
    {
     "name": "stdout",
     "output_type": "stream",
     "text": [
      "Accuracy Score : 0.871\n"
     ]
    },
    {
     "data": {
      "text/html": [
       "<div>\n",
       "<style scoped>\n",
       "    .dataframe tbody tr th:only-of-type {\n",
       "        vertical-align: middle;\n",
       "    }\n",
       "\n",
       "    .dataframe tbody tr th {\n",
       "        vertical-align: top;\n",
       "    }\n",
       "\n",
       "    .dataframe thead th {\n",
       "        text-align: right;\n",
       "    }\n",
       "</style>\n",
       "<table border=\"1\" class=\"dataframe\">\n",
       "  <thead>\n",
       "    <tr style=\"text-align: right;\">\n",
       "      <th></th>\n",
       "      <th>Label</th>\n",
       "      <th>f1-score</th>\n",
       "      <th>precision</th>\n",
       "      <th>recall</th>\n",
       "      <th>support</th>\n",
       "    </tr>\n",
       "  </thead>\n",
       "  <tbody>\n",
       "    <tr>\n",
       "      <th>0</th>\n",
       "      <td>Fish</td>\n",
       "      <td>0.871129</td>\n",
       "      <td>0.872000</td>\n",
       "      <td>0.870259</td>\n",
       "      <td>501.000</td>\n",
       "    </tr>\n",
       "    <tr>\n",
       "      <th>1</th>\n",
       "      <td>People</td>\n",
       "      <td>0.870871</td>\n",
       "      <td>0.870000</td>\n",
       "      <td>0.871743</td>\n",
       "      <td>499.000</td>\n",
       "    </tr>\n",
       "    <tr>\n",
       "      <th>accuracy</th>\n",
       "      <td></td>\n",
       "      <td>0.871000</td>\n",
       "      <td>0.871000</td>\n",
       "      <td>0.871000</td>\n",
       "      <td>0.871</td>\n",
       "    </tr>\n",
       "    <tr>\n",
       "      <th>macro avg</th>\n",
       "      <td></td>\n",
       "      <td>0.871000</td>\n",
       "      <td>0.871000</td>\n",
       "      <td>0.871001</td>\n",
       "      <td>1000.000</td>\n",
       "    </tr>\n",
       "    <tr>\n",
       "      <th>weighted avg</th>\n",
       "      <td></td>\n",
       "      <td>0.871000</td>\n",
       "      <td>0.871002</td>\n",
       "      <td>0.871000</td>\n",
       "      <td>1000.000</td>\n",
       "    </tr>\n",
       "  </tbody>\n",
       "</table>\n",
       "</div>"
      ],
      "text/plain": [
       "               Label  f1-score  precision    recall   support\n",
       "0               Fish  0.871129   0.872000  0.870259   501.000\n",
       "1             People  0.870871   0.870000  0.871743   499.000\n",
       "accuracy              0.871000   0.871000  0.871000     0.871\n",
       "macro avg             0.871000   0.871000  0.871001  1000.000\n",
       "weighted avg          0.871000   0.871002  0.871000  1000.000"
      ]
     },
     "execution_count": 17,
     "metadata": {},
     "output_type": "execute_result"
    }
   ],
   "source": [
    "#Training logistic regression  \n",
    "lr=LogisticRegression()\n",
    "lr.fit(X_train_features,y_train)\n",
    "predictions=lr.predict(X_test_features)\n",
    "print(\"Accuracy Score :\",accuracy_score(predictions,y_test))\n",
    "generate_classification_report(predictions,y_test)"
   ]
  },
  {
   "cell_type": "code",
   "execution_count": 18,
   "metadata": {},
   "outputs": [],
   "source": [
    "#reducing the size of vgg16 network to extract low level features\n",
    "reduced_model=Sequential()\n",
    "for layer in model.layers[:-8]:\n",
    "    reduced_model.add(layer)\n",
    "reduced_model.add(Flatten())"
   ]
  },
  {
   "cell_type": "code",
   "execution_count": 19,
   "metadata": {},
   "outputs": [
    {
     "name": "stdout",
     "output_type": "stream",
     "text": [
      "Model: \"sequential_1\"\n",
      "_________________________________________________________________\n",
      "Layer (type)                 Output Shape              Param #   \n",
      "=================================================================\n",
      "block1_conv1 (Conv2D)        (None, 32, 32, 64)        1792      \n",
      "_________________________________________________________________\n",
      "block1_conv2 (Conv2D)        (None, 32, 32, 64)        36928     \n",
      "_________________________________________________________________\n",
      "block1_pool (MaxPooling2D)   (None, 16, 16, 64)        0         \n",
      "_________________________________________________________________\n",
      "block2_conv1 (Conv2D)        (None, 16, 16, 128)       73856     \n",
      "_________________________________________________________________\n",
      "block2_conv2 (Conv2D)        (None, 16, 16, 128)       147584    \n",
      "_________________________________________________________________\n",
      "block2_pool (MaxPooling2D)   (None, 8, 8, 128)         0         \n",
      "_________________________________________________________________\n",
      "block3_conv1 (Conv2D)        (None, 8, 8, 256)         295168    \n",
      "_________________________________________________________________\n",
      "block3_conv2 (Conv2D)        (None, 8, 8, 256)         590080    \n",
      "_________________________________________________________________\n",
      "block3_conv3 (Conv2D)        (None, 8, 8, 256)         590080    \n",
      "_________________________________________________________________\n",
      "block3_pool (MaxPooling2D)   (None, 4, 4, 256)         0         \n",
      "_________________________________________________________________\n",
      "flatten_1 (Flatten)          (None, 4096)              0         \n",
      "=================================================================\n",
      "Total params: 1,735,488\n",
      "Trainable params: 1,735,488\n",
      "Non-trainable params: 0\n",
      "_________________________________________________________________\n"
     ]
    }
   ],
   "source": [
    "reduced_model.summary()"
   ]
  },
  {
   "cell_type": "code",
   "execution_count": 20,
   "metadata": {},
   "outputs": [],
   "source": [
    "#get Feautre vectors from complete VGG16 network\n",
    "X_train_features=reduced_model.predict(X_train)\n",
    "X_test_features=reduced_model.predict(X_test)"
   ]
  },
  {
   "cell_type": "code",
   "execution_count": 21,
   "metadata": {},
   "outputs": [
    {
     "name": "stderr",
     "output_type": "stream",
     "text": [
      "C:\\Users\\MSI\\Anaconda3\\lib\\site-packages\\sklearn\\linear_model\\logistic.py:432: FutureWarning: Default solver will be changed to 'lbfgs' in 0.22. Specify a solver to silence this warning.\n",
      "  FutureWarning)\n"
     ]
    },
    {
     "name": "stdout",
     "output_type": "stream",
     "text": [
      "Accuracy Score : 0.931\n"
     ]
    }
   ],
   "source": [
    "#Training logistic regression  \n",
    "lr=LogisticRegression()\n",
    "lr.fit(X_train_features,y_train)\n",
    "predictions=lr.predict(X_test_features)\n",
    "print(\"Accuracy Score :\",accuracy_score(predictions,y_test))"
   ]
  },
  {
   "cell_type": "code",
   "execution_count": 22,
   "metadata": {},
   "outputs": [
    {
     "data": {
      "text/html": [
       "<div>\n",
       "<style scoped>\n",
       "    .dataframe tbody tr th:only-of-type {\n",
       "        vertical-align: middle;\n",
       "    }\n",
       "\n",
       "    .dataframe tbody tr th {\n",
       "        vertical-align: top;\n",
       "    }\n",
       "\n",
       "    .dataframe thead th {\n",
       "        text-align: right;\n",
       "    }\n",
       "</style>\n",
       "<table border=\"1\" class=\"dataframe\">\n",
       "  <thead>\n",
       "    <tr style=\"text-align: right;\">\n",
       "      <th></th>\n",
       "      <th>Label</th>\n",
       "      <th>f1-score</th>\n",
       "      <th>precision</th>\n",
       "      <th>recall</th>\n",
       "      <th>support</th>\n",
       "    </tr>\n",
       "  </thead>\n",
       "  <tbody>\n",
       "    <tr>\n",
       "      <th>0</th>\n",
       "      <td>Fish</td>\n",
       "      <td>0.930931</td>\n",
       "      <td>0.930000</td>\n",
       "      <td>0.931864</td>\n",
       "      <td>499.000</td>\n",
       "    </tr>\n",
       "    <tr>\n",
       "      <th>1</th>\n",
       "      <td>People</td>\n",
       "      <td>0.931069</td>\n",
       "      <td>0.932000</td>\n",
       "      <td>0.930140</td>\n",
       "      <td>501.000</td>\n",
       "    </tr>\n",
       "    <tr>\n",
       "      <th>accuracy</th>\n",
       "      <td></td>\n",
       "      <td>0.931000</td>\n",
       "      <td>0.931000</td>\n",
       "      <td>0.931000</td>\n",
       "      <td>0.931</td>\n",
       "    </tr>\n",
       "    <tr>\n",
       "      <th>macro avg</th>\n",
       "      <td></td>\n",
       "      <td>0.931000</td>\n",
       "      <td>0.931000</td>\n",
       "      <td>0.931002</td>\n",
       "      <td>1000.000</td>\n",
       "    </tr>\n",
       "    <tr>\n",
       "      <th>weighted avg</th>\n",
       "      <td></td>\n",
       "      <td>0.931000</td>\n",
       "      <td>0.931002</td>\n",
       "      <td>0.931000</td>\n",
       "      <td>1000.000</td>\n",
       "    </tr>\n",
       "  </tbody>\n",
       "</table>\n",
       "</div>"
      ],
      "text/plain": [
       "               Label  f1-score  precision    recall   support\n",
       "0               Fish  0.930931   0.930000  0.931864   499.000\n",
       "1             People  0.931069   0.932000  0.930140   501.000\n",
       "accuracy              0.931000   0.931000  0.931000     0.931\n",
       "macro avg             0.931000   0.931000  0.931002  1000.000\n",
       "weighted avg          0.931000   0.931002  0.931000  1000.000"
      ]
     },
     "execution_count": 22,
     "metadata": {},
     "output_type": "execute_result"
    }
   ],
   "source": [
    "report=generate_classification_report(predictions,y_test)\n",
    "report"
   ]
  }
 ],
 "metadata": {
  "kernelspec": {
   "display_name": "Python 3",
   "language": "python",
   "name": "python3"
  },
  "language_info": {
   "codemirror_mode": {
    "name": "ipython",
    "version": 3
   },
   "file_extension": ".py",
   "mimetype": "text/x-python",
   "name": "python",
   "nbconvert_exporter": "python",
   "pygments_lexer": "ipython3",
   "version": "3.7.3"
  }
 },
 "nbformat": 4,
 "nbformat_minor": 2
}
